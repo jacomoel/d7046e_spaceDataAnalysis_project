{
 "cells": [
  {
   "cell_type": "markdown",
   "metadata": {},
   "source": [
    "# d7046e ANN course project , Group 6\n",
    "\n",
    "The project goal is to implement a classifier for clear/cloudy sky based satellite image data. "
   ]
  },
  {
   "cell_type": "code",
   "execution_count": 4,
   "metadata": {},
   "outputs": [
    {
     "name": "stderr",
     "output_type": "stream",
     "text": [
      "Downloading...\n",
      "From: https://drive.google.com/uc?id=19MBh9JIJTxYIPAeO7G5RML5_ddjJ1Cpa\n",
      "To: c:\\Users\\moell\\dev\\dev_uni\\d7046e\\project\\d7046e_spaceDataAnalysis_project\\data\\skogsstyrelsen\\data.zip\n",
      "100%|██████████| 4.79M/4.79M [00:00<00:00, 10.4MB/s]\n"
     ]
    },
    {
     "name": "stdout",
     "output_type": "stream",
     "text": [
      "Download and extraction completed. Files are in ../data/skogsstyrelsen/np_arrays/\n"
     ]
    }
   ],
   "source": [
    "# downloads and extract the data from, https://drive.google.com/drive/folders/1lRCIcQo9CqFRDhUd3aZRAA46k8nLL49J\n",
    "\n",
    "import gdown\n",
    "import zipfile\n",
    "import os\n",
    "\n",
    "FILE_ID = \"19MBh9JIJTxYIPAeO7G5RML5_ddjJ1Cpa\" # ID from the download url \n",
    "\n",
    "zip_path = \"../data/skogsstyrelsen/data.zip\" # path for the zip\n",
    "extract_path = \"../data/skogsstyrelsen/np_arrays/\"\n",
    "\n",
    "down_endpoint = \"https://drive.google.com/uc?id=\" # general drive download url\n",
    "\n",
    "os.makedirs(extract_path, exist_ok=True)\n",
    "\n",
    "gdown.download(f\"{down_endpoint}{FILE_ID}\", zip_path, quiet=False)\n",
    "\n",
    "with zipfile.ZipFile(zip_path, 'r') as zip_ref:\n",
    "    zip_ref.extractall(extract_path)\n",
    "\n",
    "os.remove(zip_path) # remove the zip, comment out if you want to keep the zip\n",
    "\n",
    "print(f\"Download and extraction completed. Files are in {extract_path}\")"
   ]
  },
  {
   "cell_type": "code",
   "execution_count": null,
   "metadata": {},
   "outputs": [],
   "source": []
  }
 ],
 "metadata": {
  "kernelspec": {
   "display_name": "venv",
   "language": "python",
   "name": "python3"
  },
  "language_info": {
   "codemirror_mode": {
    "name": "ipython",
    "version": 3
   },
   "file_extension": ".py",
   "mimetype": "text/x-python",
   "name": "python",
   "nbconvert_exporter": "python",
   "pygments_lexer": "ipython3",
   "version": "3.12.7"
  }
 },
 "nbformat": 4,
 "nbformat_minor": 2
}
